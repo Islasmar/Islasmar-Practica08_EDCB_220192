{
 "cells": [
  {
   "cell_type": "markdown",
   "id": "10c40090-a637-4a7c-9c89-9f6e6fce6779",
   "metadata": {},
   "source": [
    "### Práctica 08: Análisis Estadístico Avanzado de Datos usando las librerias: Scipy, itertools y wordcloud"
   ]
  },
  {
   "cell_type": "markdown",
   "id": "712d2faa-18bf-4706-b4c3-88333d59c88c",
   "metadata": {},
   "source": [
    "#### Creado por: Mariano Islas M-220192"
   ]
  },
  {
   "cell_type": "markdown",
   "id": "c0d67888-9840-45be-ac6f-c3aa4d4a618b",
   "metadata": {},
   "source": [
    "#### Asignatura: Extracción de Conocimiento en Base de Datos"
   ]
  },
  {
   "cell_type": "markdown",
   "id": "0bc7606d-adb6-4a5b-a5a8-b397b773757a",
   "metadata": {},
   "source": [
    "### Step 1: Libraries & Configurations"
   ]
  },
  {
   "cell_type": "code",
   "execution_count": 27,
   "id": "97524675-760a-4078-b0d0-8fd374b9490a",
   "metadata": {},
   "outputs": [],
   "source": [
    "# Carga de paquetes y Librerías a utilizar\n",
    "\n",
    "# Básicos (Standard)\n",
    "\n",
    "import numpy as np # Sirve para poder realizar procesamientos básicos númericos en datos cuantitativos\n",
    "import pandas as pd # Sirve para realizar los procesos ETL es un conjunto de datos\n",
    "import time # Sirve para la manipulación de datos en diferentes formatos de tiempo\n",
    "\n",
    "#Gratificadores (Plats)\n",
    "import matplotlib.pyplot as plt\n",
    "import plotly.express as px\n",
    "import seaborn as sns"
   ]
  },
  {
   "cell_type": "code",
   "execution_count": 28,
   "id": "0611e582-e909-4db9-9ed2-25446dcd9301",
   "metadata": {},
   "outputs": [
    {
     "name": "stdout",
     "output_type": "stream",
     "text": [
      "C:\\Users\\ti_la\\Downloads\\Practica 08\n",
      " El volumen de la unidad C es OS\n",
      " El número de serie del volumen es: 00B9-62DE\n",
      "\n",
      " Directorio de C:\\Users\\ti_la\\Downloads\\Practica 08\n",
      "\n",
      "26/06/2025  02:21 p. m.    <DIR>          .\n",
      "26/06/2025  01:49 p. m.    <DIR>          ..\n",
      "26/06/2025  01:49 p. m.    <DIR>          .ipynb_checkpoints\n",
      "26/06/2025  02:21 p. m.             7,966 Practica 08.ipynb\n",
      "               1 archivos          7,966 bytes\n",
      "               3 dirs  29,404,049,408 bytes libres\n"
     ]
    }
   ],
   "source": [
    "!cd \n",
    "!dir"
   ]
  },
  {
   "cell_type": "code",
   "execution_count": 29,
   "id": "866b1d3e-0c63-4926-8808-070e7b768b32",
   "metadata": {},
   "outputs": [
    {
     "name": "stdout",
     "output_type": "stream",
     "text": [
      " El volumen de la unidad C es OS\n",
      " El número de serie del volumen es: 00B9-62DE\n",
      "\n",
      " Directorio de C:\\Users\\ti_la\\Downloads\\Practica 08\n",
      "\n",
      "26/06/2025  02:21 p. m.    <DIR>          .\n",
      "26/06/2025  01:49 p. m.    <DIR>          ..\n",
      "26/06/2025  01:49 p. m.    <DIR>          .ipynb_checkpoints\n",
      "26/06/2025  02:21 p. m.             7,966 Practica 08.ipynb\n",
      "               1 archivos          7,966 bytes\n",
      "               3 dirs  29,404,049,408 bytes libres\n"
     ]
    }
   ],
   "source": [
    "!dir"
   ]
  },
  {
   "cell_type": "code",
   "execution_count": 31,
   "id": "a2b54808-78c0-4ef3-9218-2145b5232817",
   "metadata": {},
   "outputs": [],
   "source": [
    "df = pd.read_csv('salaries.csv')"
   ]
  },
  {
   "cell_type": "code",
   "execution_count": 4,
   "id": "93f4fd01-1c0d-410b-87c8-f568d153935a",
   "metadata": {},
   "outputs": [
    {
     "name": "stdout",
     "output_type": "stream",
     "text": [
      "\n",
      "CPU times: total: 62.5 ms\n",
      "Wall time: 65.8 ms\n"
     ]
    },
    {
     "data": {
      "text/plain": [
       "0"
      ]
     },
     "execution_count": 4,
     "metadata": {},
     "output_type": "execute_result"
    }
   ],
   "source": [
    "%%time\n",
    "\n",
    "# Instalación/importación de librerías necesarias:-\n",
    "from gc import collect  # recolección de basura para liberar memoria\n",
    "from warnings import filterwarnings  # manejo de mensajes de advertencia\n",
    "\n",
    "import re  # expresiones regulares\n",
    "\n",
    "import numpy as np  # álgebra lineal\n",
    "import pandas as pd  # procesamiento de datos, lectura/escritura de archivos CSV (por ejemplo, pd.read_csv)\n",
    "from scipy import stats  # funciones estadísticas\n",
    "\n",
    "from itertools import cycle, combinations  # generar combinaciones y ciclos\n",
    "\n",
    "import matplotlib.pyplot as plt  # visualización de datos\n",
    "from matplotlib.ticker import FuncFormatter  # para formatear los ejes (ticks) de manera personalizada\n",
    "from matplotlib.ticker import FormatStrFormatter  # para formatear los ejes con una cadena de formato\n",
    "from mpl_toolkits.mplot3d import Axes3D  # módulo para gráficos en 3D\n",
    "from matplotlib.colors import ListedColormap  # colormap personalizado para gráficos de dispersión\n",
    "import seaborn as sns  # visualización de datos estadísticos\n",
    "from wordcloud import WordCloud  # visualización de texto en forma de nube de palabras\n",
    "\n",
    "from io import StringIO  # manipulación de texto en formato de archivo\n",
    "\n",
    "filterwarnings('ignore')  # ignorar mensajes de advertencia\n",
    "from IPython.display import display, HTML, display_html, clear_output  # mostrar contenido HTML en notebooks\n",
    "\n",
    "clear_output()  # limpiar la salida del notebook\n",
    "print()\n",
    "collect()  # ejecutar recolección de basura para liberar memoria\n"
   ]
  },
  {
   "cell_type": "code",
   "execution_count": 10,
   "id": "f63a60e4-b566-4ab8-bf4e-f41ea322a7fe",
   "metadata": {},
   "outputs": [
    {
     "name": "stdout",
     "output_type": "stream",
     "text": [
      "Succesfully Configured libraries!\n"
     ]
    }
   ],
   "source": [
    "# Establezca el estilo de trazado en 'cinco treinta y ocho''\n",
    "plt.style.use(\"fivethirtyeight\")\n",
    "sns.set(rc={\"figure.figsize\":(10, 10)})\n",
    "print(f\"Succesfully Configured libraries!\")"
   ]
  },
  {
   "cell_type": "markdown",
   "id": "30281fc6-68be-4b45-be5e-eba2e662d743",
   "metadata": {},
   "source": [
    "### Step 2: Load Dataset"
   ]
  },
  {
   "cell_type": "code",
   "execution_count": 13,
   "id": "969b3ecd-d328-4699-bce9-375d1f3f89f3",
   "metadata": {},
   "outputs": [
    {
     "name": "stdout",
     "output_type": "stream",
     "text": [
      "Error: File not found. Please check the file path.\n",
      "\n",
      "CPU times: total: 78.1 ms\n",
      "Wall time: 95.1 ms\n"
     ]
    }
   ],
   "source": [
    "%%time\n",
    "\n",
    "# Manejo de errores al cargar un conjunto de datos con Pandas read_csv\n",
    "\n",
    "try:\n",
    "    # Intentar leer el conjunto de datos\n",
    "    df = pd.read_csv('global_ai_ml_data_salaries.csv')\n",
    "    print(f\"Dataset loaded successfully.\")\n",
    "    \n",
    "except FileNotFoundError:\n",
    "    # Manejar FileNotFoundError si el archivo no existe\n",
    "    print(f\"Error: File not found. Please check the file path.\")\n",
    "\n",
    "except Exception as e:\n",
    "    # Manejar otras excepciones\n",
    "    print(f\"An error occurred while loading the dataset: {e}\")\n",
    "\n",
    "print()\n",
    "collect();"
   ]
  },
  {
   "cell_type": "markdown",
   "id": "69d4c7ea-0bb7-46b5-a063-7d245574401b",
   "metadata": {},
   "source": [
    "### Step 3: Attribute Overview"
   ]
  },
  {
   "cell_type": "code",
   "execution_count": 22,
   "id": "f39d03dd-be7f-4fbf-88c7-0cba6e3bbe37",
   "metadata": {},
   "outputs": [],
   "source": [
    "def display_dataframe_with_custom_header(df, show_head=False):\n",
    "    print(f\"{'DataFrame Info:':-^50}\")\n",
    "    print(df.info())\n",
    "    print()\n",
    "    \n",
    "    print(f\"{'DataFrame Shape:':-^50}\")\n",
    "    print(df.shape)\n",
    "    print()\n",
    "    \n",
    "    print(f\"{'DataFrame Columns:':-^50}\")\n",
    "    print(df.columns.tolist())\n",
    "    print()\n",
    "    \n",
    "    if show_head:\n",
    "        print(f\"{'DataFrame Head:':-^50}\")\n",
    "        display(df.head())"
   ]
  },
  {
   "cell_type": "code",
   "execution_count": 32,
   "id": "488d5672-a41d-420e-b39c-1f8060e3bdb9",
   "metadata": {},
   "outputs": [
    {
     "name": "stdout",
     "output_type": "stream",
     "text": [
      "-----------------DataFrame Info:------------------\n",
      "<class 'pandas.core.frame.DataFrame'>\n",
      "RangeIndex: 73157 entries, 0 to 73156\n",
      "Data columns (total 11 columns):\n",
      " #   Column              Non-Null Count  Dtype  \n",
      "---  ------              --------------  -----  \n",
      " 0   work_year           73157 non-null  int64  \n",
      " 1   experience_level    73155 non-null  object \n",
      " 2   employment_type     73154 non-null  object \n",
      " 3   job_title           73155 non-null  object \n",
      " 4   salary              73148 non-null  float64\n",
      " 5   salary_currency     73155 non-null  object \n",
      " 6   salary_in_usd       73150 non-null  float64\n",
      " 7   employee_residence  73156 non-null  object \n",
      " 8   remote_ratio        73152 non-null  float64\n",
      " 9   company_location    73155 non-null  object \n",
      " 10  company_size        73156 non-null  object \n",
      "dtypes: float64(3), int64(1), object(7)\n",
      "memory usage: 6.1+ MB\n",
      "None\n",
      "\n",
      "-----------------DataFrame Shape:-----------------\n",
      "(73157, 11)\n",
      "\n",
      "----------------DataFrame Columns:----------------\n",
      "['work_year', 'experience_level', 'employment_type', 'job_title', 'salary', 'salary_currency', 'salary_in_usd', 'employee_residence', 'remote_ratio', 'company_location', 'company_size']\n",
      "\n",
      "-----------------DataFrame Info:------------------\n",
      "<class 'pandas.core.frame.DataFrame'>\n",
      "RangeIndex: 73157 entries, 0 to 73156\n",
      "Data columns (total 11 columns):\n",
      " #   Column              Non-Null Count  Dtype  \n",
      "---  ------              --------------  -----  \n",
      " 0   work_year           73157 non-null  int64  \n",
      " 1   experience_level    73155 non-null  object \n",
      " 2   employment_type     73154 non-null  object \n",
      " 3   job_title           73155 non-null  object \n",
      " 4   salary              73148 non-null  float64\n",
      " 5   salary_currency     73155 non-null  object \n",
      " 6   salary_in_usd       73150 non-null  float64\n",
      " 7   employee_residence  73156 non-null  object \n",
      " 8   remote_ratio        73152 non-null  float64\n",
      " 9   company_location    73155 non-null  object \n",
      " 10  company_size        73156 non-null  object \n",
      "dtypes: float64(3), int64(1), object(7)\n",
      "memory usage: 6.1+ MB\n",
      "None\n",
      "\n",
      "-----------------DataFrame Shape:-----------------\n",
      "(73157, 11)\n",
      "\n",
      "----------------DataFrame Columns:----------------\n",
      "['work_year', 'experience_level', 'employment_type', 'job_title', 'salary', 'salary_currency', 'salary_in_usd', 'employee_residence', 'remote_ratio', 'company_location', 'company_size']\n",
      "\n",
      "-----------------DataFrame Head:------------------\n"
     ]
    },
    {
     "data": {
      "text/html": [
       "<div>\n",
       "<style scoped>\n",
       "    .dataframe tbody tr th:only-of-type {\n",
       "        vertical-align: middle;\n",
       "    }\n",
       "\n",
       "    .dataframe tbody tr th {\n",
       "        vertical-align: top;\n",
       "    }\n",
       "\n",
       "    .dataframe thead th {\n",
       "        text-align: right;\n",
       "    }\n",
       "</style>\n",
       "<table border=\"1\" class=\"dataframe\">\n",
       "  <thead>\n",
       "    <tr style=\"text-align: right;\">\n",
       "      <th></th>\n",
       "      <th>work_year</th>\n",
       "      <th>experience_level</th>\n",
       "      <th>employment_type</th>\n",
       "      <th>job_title</th>\n",
       "      <th>salary</th>\n",
       "      <th>salary_currency</th>\n",
       "      <th>salary_in_usd</th>\n",
       "      <th>employee_residence</th>\n",
       "      <th>remote_ratio</th>\n",
       "      <th>company_location</th>\n",
       "      <th>company_size</th>\n",
       "    </tr>\n",
       "  </thead>\n",
       "  <tbody>\n",
       "    <tr>\n",
       "      <th>0</th>\n",
       "      <td>2025</td>\n",
       "      <td>SE</td>\n",
       "      <td>FT</td>\n",
       "      <td>Data Product Owner</td>\n",
       "      <td>170000.0</td>\n",
       "      <td>USD</td>\n",
       "      <td>170000.0</td>\n",
       "      <td>US</td>\n",
       "      <td>0.0</td>\n",
       "      <td>US</td>\n",
       "      <td>M</td>\n",
       "    </tr>\n",
       "    <tr>\n",
       "      <th>1</th>\n",
       "      <td>2025</td>\n",
       "      <td>SE</td>\n",
       "      <td>FT</td>\n",
       "      <td>Data Product Owner</td>\n",
       "      <td>110000.0</td>\n",
       "      <td>USD</td>\n",
       "      <td>110000.0</td>\n",
       "      <td>US</td>\n",
       "      <td>0.0</td>\n",
       "      <td>US</td>\n",
       "      <td>M</td>\n",
       "    </tr>\n",
       "    <tr>\n",
       "      <th>2</th>\n",
       "      <td>2025</td>\n",
       "      <td>SE</td>\n",
       "      <td>FT</td>\n",
       "      <td>Data Product Owner</td>\n",
       "      <td>170000.0</td>\n",
       "      <td>USD</td>\n",
       "      <td>170000.0</td>\n",
       "      <td>US</td>\n",
       "      <td>0.0</td>\n",
       "      <td>US</td>\n",
       "      <td>M</td>\n",
       "    </tr>\n",
       "    <tr>\n",
       "      <th>3</th>\n",
       "      <td>2025</td>\n",
       "      <td>SE</td>\n",
       "      <td>FT</td>\n",
       "      <td>Data Product Owner</td>\n",
       "      <td>110000.0</td>\n",
       "      <td>USD</td>\n",
       "      <td>110000.0</td>\n",
       "      <td>US</td>\n",
       "      <td>0.0</td>\n",
       "      <td>US</td>\n",
       "      <td>M</td>\n",
       "    </tr>\n",
       "    <tr>\n",
       "      <th>4</th>\n",
       "      <td>2025</td>\n",
       "      <td>SE</td>\n",
       "      <td>FT</td>\n",
       "      <td>Engineer</td>\n",
       "      <td>143000.0</td>\n",
       "      <td>USD</td>\n",
       "      <td>143000.0</td>\n",
       "      <td>US</td>\n",
       "      <td>0.0</td>\n",
       "      <td>US</td>\n",
       "      <td>M</td>\n",
       "    </tr>\n",
       "  </tbody>\n",
       "</table>\n",
       "</div>"
      ],
      "text/plain": [
       "   work_year experience_level employment_type           job_title    salary  \\\n",
       "0       2025               SE              FT  Data Product Owner  170000.0   \n",
       "1       2025               SE              FT  Data Product Owner  110000.0   \n",
       "2       2025               SE              FT  Data Product Owner  170000.0   \n",
       "3       2025               SE              FT  Data Product Owner  110000.0   \n",
       "4       2025               SE              FT            Engineer  143000.0   \n",
       "\n",
       "  salary_currency  salary_in_usd employee_residence  remote_ratio  \\\n",
       "0             USD       170000.0                 US           0.0   \n",
       "1             USD       110000.0                 US           0.0   \n",
       "2             USD       170000.0                 US           0.0   \n",
       "3             USD       110000.0                 US           0.0   \n",
       "4             USD       143000.0                 US           0.0   \n",
       "\n",
       "  company_location company_size  \n",
       "0               US            M  \n",
       "1               US            M  \n",
       "2               US            M  \n",
       "3               US            M  \n",
       "4               US            M  "
      ]
     },
     "metadata": {},
     "output_type": "display_data"
    }
   ],
   "source": [
    "display_dataframe_with_custom_header(df)  # Display info\n",
    "display_dataframe_with_custom_header(df, show_head=True)  # Display head"
   ]
  },
  {
   "cell_type": "markdown",
   "id": "63d8fee1-bad7-40a7-a483-9bba49d9418f",
   "metadata": {},
   "source": [
    "### Step 4: Missing Value Handling"
   ]
  },
  {
   "cell_type": "code",
   "execution_count": 36,
   "id": "0f7e09d6-d19a-405e-a605-1e849ee4895a",
   "metadata": {},
   "outputs": [],
   "source": [
    "import matplotlib.pyplot as plt\n",
    "import seaborn as sns\n",
    "\n",
    "def plot_missing_values_heatmap(df):\n",
    "    sns.set(style=\"whitegrid\")  # Estilo limpio\n",
    "    null_counts = df.isnull().sum()\n",
    "    null_percentage = null_counts / len(df)\n",
    "\n",
    "    plt.figure(figsize=(14, 7))\n",
    "    \n",
    "    barplot = sns.barplot(\n",
    "        x=null_counts.index,\n",
    "        y=null_counts.values,\n",
    "        palette=\"YlOrBr\"\n",
    "    )\n",
    "    \n",
    "    # Título\n",
    "    plt.title(\"Conteo de Valores Faltantes\", fontsize=18, color=\"darkred\", weight=\"bold\", pad=20)\n",
    "\n",
    "    # Etiquetas sobre las barras\n",
    "    for i, v in enumerate(null_counts.values):\n",
    "        barplot.text(i, v + 0.3, str(v), color='black', ha='center', va='bottom', fontsize=12, fontweight='bold')\n",
    "\n",
    "    # Rotación y estilo de etiquetas del eje X\n",
    "    plt.xticks(rotation=45, ha='right', fontsize=11)\n",
    "    plt.yticks(fontsize=11)\n",
    "    \n",
    "    # Bordes sin cuadrícula\n",
    "    sns.despine()\n",
    "\n",
    "    # Etiquetas de ejes\n",
    "    plt.ylabel(\"Cantidad de valores nulos\", fontsize=13)\n",
    "    plt.xlabel(\"Columnas\", fontsize=13)\n",
    "\n",
    "    # Mostrar gráfico\n",
    "    plt.tight_layout()\n",
    "    plt.show()\n"
   ]
  },
  {
   "cell_type": "code",
   "execution_count": 37,
   "id": "e7d812ac-2ca1-40e3-9738-d444e14cb665",
   "metadata": {},
   "outputs": [
    {
     "data": {
      "image/png": "[encoded data removed]",
      "text/plain": [
       "<Figure size 1400x700 with 1 Axes>"
      ]
     },
     "metadata": {},
     "output_type": "display_data"
    }
   ],
   "source": [
    "# Call the function to plot the heatmap\n",
    "plot_missing_values_heatmap(df)"
   ]
  },
  {
   "cell_type": "markdown",
   "id": "984b8ee3-7dec-461b-9a2b-4012aabedf58",
   "metadata": {},
   "source": [
    "#### Step 5: Duplicate Value Manage"
   ]
  },
  {
   "cell_type": "code",
   "execution_count": 38,
   "id": "16f46b91-5894-443b-9ccf-5113149146a5",
   "metadata": {},
   "outputs": [
    {
     "name": "stdout",
     "output_type": "stream",
     "text": [
      "The data contains 39124 duplicate values\n"
     ]
    }
   ],
   "source": [
    "# Checking the duplicate values in the data\n",
    "duplicate_values = df.duplicated().sum()\n",
    "print(f'The data contains {duplicate_values} duplicate values')\n",
    "\n",
    "# Remove duplicate rows\n",
    "df_no_duplicates = df.drop_duplicates()"
   ]
  },
  {
   "cell_type": "code",
   "execution_count": 44,
   "id": "4c4dfd36-257c-4ed1-a97f-9968bae519a9",
   "metadata": {},
   "outputs": [],
   "source": [
    "def apply_duplicated_styling(df):\n",
    "    duplicated_cols = df.T.duplicated()\n",
    "    return pd.DataFrame(duplicated_cols, index=df.columns).style.applymap(\n",
    "        lambda v: 'color: blue; font-weight: bold' if v else 'color: red'\n",
    "    )"
   ]
  },
  {
   "cell_type": "code",
   "execution_count": 45,
   "id": "c1d6a098-9ff3-4867-b12b-e01040f691fe",
   "metadata": {},
   "outputs": [
    {
     "data": {
      "text/html": [
       "<style type=\"text/css\">\n",
       "#T_54a20_row0_col0, #T_54a20_row1_col0, #T_54a20_row2_col0, #T_54a20_row3_col0, #T_54a20_row4_col0, #T_54a20_row5_col0, #T_54a20_row6_col0, #T_54a20_row7_col0, #T_54a20_row8_col0, #T_54a20_row9_col0, #T_54a20_row10_col0 {\n",
       "  color: red;\n",
       "}\n",
       "</style>\n",
       "<table id=\"T_54a20\">\n",
       "  <thead>\n",
       "    <tr>\n",
       "      <th class=\"blank level0\" >&nbsp;</th>\n",
       "      <th id=\"T_54a20_level0_col0\" class=\"col_heading level0 col0\" >0</th>\n",
       "    </tr>\n",
       "  </thead>\n",
       "  <tbody>\n",
       "    <tr>\n",
       "      <th id=\"T_54a20_level0_row0\" class=\"row_heading level0 row0\" >work_year</th>\n",
       "      <td id=\"T_54a20_row0_col0\" class=\"data row0 col0\" >False</td>\n",
       "    </tr>\n",
       "    <tr>\n",
       "      <th id=\"T_54a20_level0_row1\" class=\"row_heading level0 row1\" >experience_level</th>\n",
       "      <td id=\"T_54a20_row1_col0\" class=\"data row1 col0\" >False</td>\n",
       "    </tr>\n",
       "    <tr>\n",
       "      <th id=\"T_54a20_level0_row2\" class=\"row_heading level0 row2\" >employment_type</th>\n",
       "      <td id=\"T_54a20_row2_col0\" class=\"data row2 col0\" >False</td>\n",
       "    </tr>\n",
       "    <tr>\n",
       "      <th id=\"T_54a20_level0_row3\" class=\"row_heading level0 row3\" >job_title</th>\n",
       "      <td id=\"T_54a20_row3_col0\" class=\"data row3 col0\" >False</td>\n",
       "    </tr>\n",
       "    <tr>\n",
       "      <th id=\"T_54a20_level0_row4\" class=\"row_heading level0 row4\" >salary</th>\n",
       "      <td id=\"T_54a20_row4_col0\" class=\"data row4 col0\" >False</td>\n",
       "    </tr>\n",
       "    <tr>\n",
       "      <th id=\"T_54a20_level0_row5\" class=\"row_heading level0 row5\" >salary_currency</th>\n",
       "      <td id=\"T_54a20_row5_col0\" class=\"data row5 col0\" >False</td>\n",
       "    </tr>\n",
       "    <tr>\n",
       "      <th id=\"T_54a20_level0_row6\" class=\"row_heading level0 row6\" >salary_in_usd</th>\n",
       "      <td id=\"T_54a20_row6_col0\" class=\"data row6 col0\" >False</td>\n",
       "    </tr>\n",
       "    <tr>\n",
       "      <th id=\"T_54a20_level0_row7\" class=\"row_heading level0 row7\" >employee_residence</th>\n",
       "      <td id=\"T_54a20_row7_col0\" class=\"data row7 col0\" >False</td>\n",
       "    </tr>\n",
       "    <tr>\n",
       "      <th id=\"T_54a20_level0_row8\" class=\"row_heading level0 row8\" >remote_ratio</th>\n",
       "      <td id=\"T_54a20_row8_col0\" class=\"data row8 col0\" >False</td>\n",
       "    </tr>\n",
       "    <tr>\n",
       "      <th id=\"T_54a20_level0_row9\" class=\"row_heading level0 row9\" >company_location</th>\n",
       "      <td id=\"T_54a20_row9_col0\" class=\"data row9 col0\" >False</td>\n",
       "    </tr>\n",
       "    <tr>\n",
       "      <th id=\"T_54a20_level0_row10\" class=\"row_heading level0 row10\" >company_size</th>\n",
       "      <td id=\"T_54a20_row10_col0\" class=\"data row10 col0\" >False</td>\n",
       "    </tr>\n",
       "  </tbody>\n",
       "</table>\n"
      ],
      "text/plain": [
       "<pandas.io.formats.style.Styler at 0x285a2a77e00>"
      ]
     },
     "execution_count": 45,
     "metadata": {},
     "output_type": "execute_result"
    }
   ],
   "source": [
    "# checks for duplicates among the columns of the DataFrame.\n",
    "styled_df = apply_duplicated_styling(df)\n",
    "styled_df"
   ]
  },
  {
   "cell_type": "markdown",
   "id": "452e9d16-54e3-4909-bc43-ac26d62a32e4",
   "metadata": {},
   "source": [
    "#### Step 6 | Statistical Data Summary"
   ]
  },
  {
   "cell_type": "markdown",
   "id": "d5af7097-6bb2-4b10-b20c-638405909b1b",
   "metadata": {},
   "source": [
    "### Calcular las medidas de tendencia central de nuestro dataframe"
   ]
  },
  {
   "cell_type": "code",
   "execution_count": 47,
   "id": "07cb8dc1-4242-4a7d-8c31-ad36a93d60dc",
   "metadata": {},
   "outputs": [],
   "source": [
    "import pandas as pd\n",
    "import numpy as np\n",
    "from scipy.stats import iqr, skew, kurtosis\n",
    "\n",
    "def calcular_estadisticas(df, opacity=1.0, font_size='14px'):\n",
    "    columnas_numericas = df.select_dtypes(include=np.number).columns\n",
    "    stats = {}\n",
    "\n",
    "    for col in columnas_numericas:\n",
    "        serie = df[col].dropna()\n",
    "        stats[col] = [\n",
    "            round(serie.mean(), 2),                     # Mean\n",
    "            round(serie.median(), 2),                   # Median\n",
    "            round(serie.mode().iloc[0], 2),             # Mode\n",
    "            round(serie.max() - serie.min(), 2),        # Range\n",
    "            round(serie.std(), 2),                      # Stdev\n",
    "            round(serie.var(), 2),                      # Variance\n",
    "            round(iqr(serie), 2),                       # IQR\n",
    "            round(serie.quantile(0.25), 2),             # 25%\n",
    "            round(serie.quantile(0.50), 2),             # 50%\n",
    "            round(serie.quantile(0.75), 2),             # 75%\n",
    "            round(serie.min(), 2),                      # Min\n",
    "            round(serie.max(), 2),                      # Max\n",
    "            round(skew(serie), 2),                      # Skewness\n",
    "            round(kurtosis(serie), 2)                   # Kurtosis\n",
    "        ]\n",
    "\n",
    "    # Crear DataFrame con métricas como filas y columnas como encabezado\n",
    "    orden_metricas = [\n",
    "        'Mean', 'Median', 'Mode', 'Range', 'Stdev', 'Variance', 'IQR',\n",
    "        '25%', '50%', '75%', 'Min', 'Max', 'Skewness', 'Kurtosis'\n",
    "    ]\n",
    "\n",
    "    stats_df = pd.DataFrame(stats, index=orden_metricas)\n",
    "\n",
    "    return stats_df.style.set_table_attributes(f'style=\"opacity:{opacity}; font-size:{font_size};\"')"
   ]
  },
  {
   "cell_type": "code",
   "execution_count": 48,
   "id": "7e0b8cf3-05e5-4d1c-a06f-411b4c17efd6",
   "metadata": {},
   "outputs": [
    {
     "data": {
      "text/html": [
       "<style type=\"text/css\">\n",
       "</style>\n",
       "<table id=\"T_843ca\" style=\"opacity:1.0; font-size:14px;\">\n",
       "  <thead>\n",
       "    <tr>\n",
       "      <th class=\"blank level0\" >&nbsp;</th>\n",
       "      <th id=\"T_843ca_level0_col0\" class=\"col_heading level0 col0\" >work_year</th>\n",
       "      <th id=\"T_843ca_level0_col1\" class=\"col_heading level0 col1\" >salary</th>\n",
       "      <th id=\"T_843ca_level0_col2\" class=\"col_heading level0 col2\" >salary_in_usd</th>\n",
       "      <th id=\"T_843ca_level0_col3\" class=\"col_heading level0 col3\" >remote_ratio</th>\n",
       "    </tr>\n",
       "  </thead>\n",
       "  <tbody>\n",
       "    <tr>\n",
       "      <th id=\"T_843ca_level0_row0\" class=\"row_heading level0 row0\" >Mean</th>\n",
       "      <td id=\"T_843ca_row0_col0\" class=\"data row0 col0\" >2023.830000</td>\n",
       "      <td id=\"T_843ca_row0_col1\" class=\"data row0 col1\" >162551.020000</td>\n",
       "      <td id=\"T_843ca_row0_col2\" class=\"data row0 col2\" >158199.030000</td>\n",
       "      <td id=\"T_843ca_row0_col3\" class=\"data row0 col3\" >21.580000</td>\n",
       "    </tr>\n",
       "    <tr>\n",
       "      <th id=\"T_843ca_level0_row1\" class=\"row_heading level0 row1\" >Median</th>\n",
       "      <td id=\"T_843ca_row1_col0\" class=\"data row1 col0\" >2024.000000</td>\n",
       "      <td id=\"T_843ca_row1_col1\" class=\"data row1 col1\" >148000.000000</td>\n",
       "      <td id=\"T_843ca_row1_col2\" class=\"data row1 col2\" >147500.000000</td>\n",
       "      <td id=\"T_843ca_row1_col3\" class=\"data row1 col3\" >0.000000</td>\n",
       "    </tr>\n",
       "    <tr>\n",
       "      <th id=\"T_843ca_level0_row2\" class=\"row_heading level0 row2\" >Mode</th>\n",
       "      <td id=\"T_843ca_row2_col0\" class=\"data row2 col0\" >2024.000000</td>\n",
       "      <td id=\"T_843ca_row2_col1\" class=\"data row2 col1\" >160000.000000</td>\n",
       "      <td id=\"T_843ca_row2_col2\" class=\"data row2 col2\" >160000.000000</td>\n",
       "      <td id=\"T_843ca_row2_col3\" class=\"data row2 col3\" >0.000000</td>\n",
       "    </tr>\n",
       "    <tr>\n",
       "      <th id=\"T_843ca_level0_row3\" class=\"row_heading level0 row3\" >Range</th>\n",
       "      <td id=\"T_843ca_row3_col0\" class=\"data row3 col0\" >5.000000</td>\n",
       "      <td id=\"T_843ca_row3_col1\" class=\"data row3 col1\" >30386000.000000</td>\n",
       "      <td id=\"T_843ca_row3_col2\" class=\"data row3 col2\" >6985000.000000</td>\n",
       "      <td id=\"T_843ca_row3_col3\" class=\"data row3 col3\" >100.000000</td>\n",
       "    </tr>\n",
       "    <tr>\n",
       "      <th id=\"T_843ca_level0_row4\" class=\"row_heading level0 row4\" >Stdev</th>\n",
       "      <td id=\"T_843ca_row4_col0\" class=\"data row4 col0\" >0.480000</td>\n",
       "      <td id=\"T_843ca_row4_col1\" class=\"data row4 col1\" >192576.420000</td>\n",
       "      <td id=\"T_843ca_row4_col2\" class=\"data row4 col2\" >80846.650000</td>\n",
       "      <td id=\"T_843ca_row4_col3\" class=\"data row4 col3\" >41.020000</td>\n",
       "    </tr>\n",
       "    <tr>\n",
       "      <th id=\"T_843ca_level0_row5\" class=\"row_heading level0 row5\" >Variance</th>\n",
       "      <td id=\"T_843ca_row5_col0\" class=\"data row5 col0\" >0.230000</td>\n",
       "      <td id=\"T_843ca_row5_col1\" class=\"data row5 col1\" >37085678574.360001</td>\n",
       "      <td id=\"T_843ca_row5_col2\" class=\"data row5 col2\" >6536181581.680000</td>\n",
       "      <td id=\"T_843ca_row5_col3\" class=\"data row5 col3\" >1682.900000</td>\n",
       "    </tr>\n",
       "    <tr>\n",
       "      <th id=\"T_843ca_level0_row6\" class=\"row_heading level0 row6\" >IQR</th>\n",
       "      <td id=\"T_843ca_row6_col0\" class=\"data row6 col0\" >0.000000</td>\n",
       "      <td id=\"T_843ca_row6_col1\" class=\"data row6 col1\" >93055.000000</td>\n",
       "      <td id=\"T_843ca_row6_col2\" class=\"data row6 col2\" >92810.000000</td>\n",
       "      <td id=\"T_843ca_row6_col3\" class=\"data row6 col3\" >0.000000</td>\n",
       "    </tr>\n",
       "    <tr>\n",
       "      <th id=\"T_843ca_level0_row7\" class=\"row_heading level0 row7\" >25%</th>\n",
       "      <td id=\"T_843ca_row7_col0\" class=\"data row7 col0\" >2024.000000</td>\n",
       "      <td id=\"T_843ca_row7_col1\" class=\"data row7 col1\" >106945.000000</td>\n",
       "      <td id=\"T_843ca_row7_col2\" class=\"data row7 col2\" >106890.000000</td>\n",
       "      <td id=\"T_843ca_row7_col3\" class=\"data row7 col3\" >0.000000</td>\n",
       "    </tr>\n",
       "    <tr>\n",
       "      <th id=\"T_843ca_level0_row8\" class=\"row_heading level0 row8\" >50%</th>\n",
       "      <td id=\"T_843ca_row8_col0\" class=\"data row8 col0\" >2024.000000</td>\n",
       "      <td id=\"T_843ca_row8_col1\" class=\"data row8 col1\" >148000.000000</td>\n",
       "      <td id=\"T_843ca_row8_col2\" class=\"data row8 col2\" >147500.000000</td>\n",
       "      <td id=\"T_843ca_row8_col3\" class=\"data row8 col3\" >0.000000</td>\n",
       "    </tr>\n",
       "    <tr>\n",
       "      <th id=\"T_843ca_level0_row9\" class=\"row_heading level0 row9\" >75%</th>\n",
       "      <td id=\"T_843ca_row9_col0\" class=\"data row9 col0\" >2024.000000</td>\n",
       "      <td id=\"T_843ca_row9_col1\" class=\"data row9 col1\" >200000.000000</td>\n",
       "      <td id=\"T_843ca_row9_col2\" class=\"data row9 col2\" >199700.000000</td>\n",
       "      <td id=\"T_843ca_row9_col3\" class=\"data row9 col3\" >0.000000</td>\n",
       "    </tr>\n",
       "    <tr>\n",
       "      <th id=\"T_843ca_level0_row10\" class=\"row_heading level0 row10\" >Min</th>\n",
       "      <td id=\"T_843ca_row10_col0\" class=\"data row10 col0\" >2020.000000</td>\n",
       "      <td id=\"T_843ca_row10_col1\" class=\"data row10 col1\" >14000.000000</td>\n",
       "      <td id=\"T_843ca_row10_col2\" class=\"data row10 col2\" >15000.000000</td>\n",
       "      <td id=\"T_843ca_row10_col3\" class=\"data row10 col3\" >0.000000</td>\n",
       "    </tr>\n",
       "    <tr>\n",
       "      <th id=\"T_843ca_level0_row11\" class=\"row_heading level0 row11\" >Max</th>\n",
       "      <td id=\"T_843ca_row11_col0\" class=\"data row11 col0\" >2025.000000</td>\n",
       "      <td id=\"T_843ca_row11_col1\" class=\"data row11 col1\" >30400000.000000</td>\n",
       "      <td id=\"T_843ca_row11_col2\" class=\"data row11 col2\" >7000000.000000</td>\n",
       "      <td id=\"T_843ca_row11_col3\" class=\"data row11 col3\" >100.000000</td>\n",
       "    </tr>\n",
       "    <tr>\n",
       "      <th id=\"T_843ca_level0_row12\" class=\"row_heading level0 row12\" >Skewness</th>\n",
       "      <td id=\"T_843ca_row12_col0\" class=\"data row12 col0\" >-2.920000</td>\n",
       "      <td id=\"T_843ca_row12_col1\" class=\"data row12 col1\" >70.520000</td>\n",
       "      <td id=\"T_843ca_row12_col2\" class=\"data row12 col2\" >17.440000</td>\n",
       "      <td id=\"T_843ca_row12_col3\" class=\"data row12 col3\" >1.380000</td>\n",
       "    </tr>\n",
       "    <tr>\n",
       "      <th id=\"T_843ca_level0_row13\" class=\"row_heading level0 row13\" >Kurtosis</th>\n",
       "      <td id=\"T_843ca_row13_col0\" class=\"data row13 col0\" >11.190000</td>\n",
       "      <td id=\"T_843ca_row13_col1\" class=\"data row13 col1\" >9051.090000</td>\n",
       "      <td id=\"T_843ca_row13_col2\" class=\"data row13 col2\" >1403.870000</td>\n",
       "      <td id=\"T_843ca_row13_col3\" class=\"data row13 col3\" >-0.080000</td>\n",
       "    </tr>\n",
       "  </tbody>\n",
       "</table>\n"
      ],
      "text/plain": [
       "<pandas.io.formats.style.Styler at 0x285a448ed80>"
      ]
     },
     "execution_count": 48,
     "metadata": {},
     "output_type": "execute_result"
    }
   ],
   "source": [
    "stats_df = calcular_estadisticas(df)\n",
    "stats_df"
   ]
  },
  {
   "cell_type": "code",
   "execution_count": 51,
   "id": "e0c30f31-7ece-4679-92cc-76cf86681cf2",
   "metadata": {},
   "outputs": [],
   "source": [
    "def variable_summary(df):\n",
    "    summary = pd.DataFrame({\n",
    "        'Variable': df.columns,\n",
    "        'Dtype': df.dtypes.values,\n",
    "        'Count': len(df),\n",
    "        'Unique': [df[col].nunique() for col in df.columns],\n",
    "        'Missing': [df[col].isnull().sum() for col in df.columns]\n",
    "    })\n",
    "    return summary\n"
   ]
  },
  {
   "cell_type": "code",
   "execution_count": 52,
   "id": "9e682ac5-bf40-4768-a511-6587fc11b19c",
   "metadata": {},
   "outputs": [
    {
     "data": {
      "text/html": [
       "<div>\n",
       "<style scoped>\n",
       "    .dataframe tbody tr th:only-of-type {\n",
       "        vertical-align: middle;\n",
       "    }\n",
       "\n",
       "    .dataframe tbody tr th {\n",
       "        vertical-align: top;\n",
       "    }\n",
       "\n",
       "    .dataframe thead th {\n",
       "        text-align: right;\n",
       "    }\n",
       "</style>\n",
       "<table border=\"1\" class=\"dataframe\">\n",
       "  <thead>\n",
       "    <tr style=\"text-align: right;\">\n",
       "      <th></th>\n",
       "      <th>Variable</th>\n",
       "      <th>Dtype</th>\n",
       "      <th>Count</th>\n",
       "      <th>Unique</th>\n",
       "      <th>Missing</th>\n",
       "    </tr>\n",
       "  </thead>\n",
       "  <tbody>\n",
       "    <tr>\n",
       "      <th>0</th>\n",
       "      <td>work_year</td>\n",
       "      <td>int64</td>\n",
       "      <td>73157</td>\n",
       "      <td>6</td>\n",
       "      <td>0</td>\n",
       "    </tr>\n",
       "    <tr>\n",
       "      <th>1</th>\n",
       "      <td>experience_level</td>\n",
       "      <td>object</td>\n",
       "      <td>73157</td>\n",
       "      <td>4</td>\n",
       "      <td>2</td>\n",
       "    </tr>\n",
       "    <tr>\n",
       "      <th>2</th>\n",
       "      <td>employment_type</td>\n",
       "      <td>object</td>\n",
       "      <td>73157</td>\n",
       "      <td>4</td>\n",
       "      <td>3</td>\n",
       "    </tr>\n",
       "    <tr>\n",
       "      <th>3</th>\n",
       "      <td>job_title</td>\n",
       "      <td>object</td>\n",
       "      <td>73157</td>\n",
       "      <td>289</td>\n",
       "      <td>2</td>\n",
       "    </tr>\n",
       "    <tr>\n",
       "      <th>4</th>\n",
       "      <td>salary</td>\n",
       "      <td>float64</td>\n",
       "      <td>73157</td>\n",
       "      <td>7095</td>\n",
       "      <td>9</td>\n",
       "    </tr>\n",
       "    <tr>\n",
       "      <th>5</th>\n",
       "      <td>salary_currency</td>\n",
       "      <td>object</td>\n",
       "      <td>73157</td>\n",
       "      <td>25</td>\n",
       "      <td>2</td>\n",
       "    </tr>\n",
       "    <tr>\n",
       "      <th>6</th>\n",
       "      <td>salary_in_usd</td>\n",
       "      <td>float64</td>\n",
       "      <td>73157</td>\n",
       "      <td>7703</td>\n",
       "      <td>7</td>\n",
       "    </tr>\n",
       "    <tr>\n",
       "      <th>7</th>\n",
       "      <td>employee_residence</td>\n",
       "      <td>object</td>\n",
       "      <td>73157</td>\n",
       "      <td>93</td>\n",
       "      <td>1</td>\n",
       "    </tr>\n",
       "    <tr>\n",
       "      <th>8</th>\n",
       "      <td>remote_ratio</td>\n",
       "      <td>float64</td>\n",
       "      <td>73157</td>\n",
       "      <td>3</td>\n",
       "      <td>5</td>\n",
       "    </tr>\n",
       "    <tr>\n",
       "      <th>9</th>\n",
       "      <td>company_location</td>\n",
       "      <td>object</td>\n",
       "      <td>73157</td>\n",
       "      <td>86</td>\n",
       "      <td>2</td>\n",
       "    </tr>\n",
       "    <tr>\n",
       "      <th>10</th>\n",
       "      <td>company_size</td>\n",
       "      <td>object</td>\n",
       "      <td>73157</td>\n",
       "      <td>3</td>\n",
       "      <td>1</td>\n",
       "    </tr>\n",
       "  </tbody>\n",
       "</table>\n",
       "</div>"
      ],
      "text/plain": [
       "              Variable    Dtype  Count  Unique  Missing\n",
       "0            work_year    int64  73157       6        0\n",
       "1     experience_level   object  73157       4        2\n",
       "2      employment_type   object  73157       4        3\n",
       "3            job_title   object  73157     289        2\n",
       "4               salary  float64  73157    7095        9\n",
       "5      salary_currency   object  73157      25        2\n",
       "6        salary_in_usd  float64  73157    7703        7\n",
       "7   employee_residence   object  73157      93        1\n",
       "8         remote_ratio  float64  73157       3        5\n",
       "9     company_location   object  73157      86        2\n",
       "10        company_size   object  73157       3        1"
      ]
     },
     "execution_count": 52,
     "metadata": {},
     "output_type": "execute_result"
    }
   ],
   "source": [
    "# DataFrame called 'df'\n",
    "summary_df = variable_summary(df)\n",
    "summary_df"
   ]
  }
 ],
 "metadata": {
  "kernelspec": {
   "display_name": "Python 3 (ipykernel)",
   "language": "python",
   "name": "python3"
  },
  "language_info": {
   "codemirror_mode": {
    "name": "ipython",
    "version": 3
   },
   "file_extension": ".py",
   "mimetype": "text/x-python",
   "name": "python",
   "nbconvert_exporter": "python",
   "pygments_lexer": "ipython3",
   "version": "3.12.7"
  }
 },
 "nbformat": 4,
 "nbformat_minor": 5
}
